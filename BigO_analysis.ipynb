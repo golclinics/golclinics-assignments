{
  "nbformat": 4,
  "nbformat_minor": 0,
  "metadata": {
    "colab": {
      "name": "BigO analysis.ipynb",
      "provenance": [],
      "authorship_tag": "ABX9TyP6gSia9LXwfx7DwrryUxY4",
      "include_colab_link": true
    },
    "kernelspec": {
      "name": "python3",
      "display_name": "Python 3"
    },
    "language_info": {
      "name": "python"
    }
  },
  "cells": [
    {
      "cell_type": "markdown",
      "metadata": {
        "id": "view-in-github",
        "colab_type": "text"
      },
      "source": [
        "<a href=\"https://colab.research.google.com/github/Mjoel4708/golclinics-assignments/blob/main/BigO_analysis.ipynb\" target=\"_parent\"><img src=\"https://colab.research.google.com/assets/colab-badge.svg\" alt=\"Open In Colab\"/></a>"
      ]
    },
    {
      "cell_type": "code",
      "metadata": {
        "id": "Kez82oD-lBIL"
      },
      "source": [
        "#countdown\n",
        "def countdown(n):\n",
        "    while n > 0:\n",
        "        print(n)\n",
        "        n -= 1\t\n",
        "    print(\"Blast off!\") \n",
        "countdown(5)\n",
        "\n",
        "\n",
        "# TIME COMPLEXITY \n",
        "\n",
        "# #O(n)the loop  runs in linear time \n",
        "# #O(1)the time complexity is in constant time \n",
        "# #O(n)this runs in linear time \n",
        "# #the print function runs in constant time \n",
        "# therefore the time complexity of this algorithm is O(n)+O(1)+O(n)\n",
        "# the time complexity is IN QUADRATIC TIME O(n^2)\n",
        "\n",
        "\n",
        "# SPACE COMPLEXITY\n",
        "#  since we have only one variable n that is an int the program\n",
        "# while loop 4 bits * n\n",
        "#  runs in constant time O(n)"
      ],
      "execution_count": null,
      "outputs": []
    },
    {
      "cell_type": "code",
      "metadata": {
        "id": "hbX43NR3m1OH"
      },
      "source": [
        "#countdown_recursive\n",
        "def countdown_recursive(n):\n",
        "    if n == 0:\n",
        "        print(\"Blast off\")\n",
        "    else:\n",
        "        print(n)\n",
        "        countdown_recursive(n - 1)\n",
        "countdown_recursive(5)\n",
        "\n",
        "\n",
        "# TIME COMPLEXITY \n",
        "\n",
        "# The (if) statement runs in O(1) constant time the print statement runs in constant time.\n",
        "# The print statement run in constant time.\n",
        "# The recursive call will be O(n)\n",
        "\n",
        "\n",
        "# SPACE COMPLEXITY\n",
        "# Recursive function space 4 bits * n\n",
        "# The space complexity of the program  O(n)\n",
        "# The memory alLocation is constnt depending on the input"
      ],
      "execution_count": null,
      "outputs": []
    },
    {
      "cell_type": "code",
      "metadata": {
        "id": "uEwatYGPqiPR"
      },
      "source": [
        "#palindrome\n",
        "def is_palindrome(s):\n",
        "    if len(s) == 0: #o(1)\n",
        "        return True   # an empty string is a palindrome\n",
        "\n",
        "    size = len(s) #O(1)\n",
        "    midpoint = size // 2 #O(1)\n",
        "    \n",
        "    for i in range(midpoint + 1): #O(n)\n",
        "        if s[i] != s[size - i - 1]:\n",
        "            return False\n",
        "    return True\n",
        "\n",
        "# Time complexity \n",
        "# ----------------------\n",
        "# The program runs in O(n)\n",
        "\n",
        "\n",
        "# Space complexity\n",
        "# -----------------\n",
        "# Space complexity is constant O(n) because memory allocation "
      ],
      "execution_count": null,
      "outputs": []
    },
    {
      "cell_type": "code",
      "metadata": {
        "id": "beK-H6qLnVgT"
      },
      "source": [
        "#palindrome_rev\n",
        "def is_palindrome_rev(s):\n",
        "    reversed_s = s[::-1] # This is a neat trick to reverse a string in python\n",
        "    return s == reversed_s\n",
        "\n",
        "\n",
        "# Time complexity \n",
        "# ----------------------\n",
        "# The program runs in O(n)\n",
        "\n",
        "\n",
        "# Space complexity\n",
        "# -----------------\n",
        "# Space complexity is constant O(1) because memory allocation happens only once "
      ],
      "execution_count": null,
      "outputs": []
    },
    {
      "cell_type": "code",
      "metadata": {
        "id": "BERIDJWnj_PN"
      },
      "source": [
        "#concantenate_arrays\n",
        "def concatenate_arrays(A, B):\n",
        "    result = []\n",
        "    for x in A: #O(n)\n",
        "        result.append(x)\n",
        "    for y in B: #O(n)\n",
        "        result.append(y)\n",
        "    return result\n",
        "\n",
        "\n",
        "\n",
        "# Time complexity \n",
        "# -------------\n",
        "# The time complexity for the first loop occurs in linear time the second loop also happens in linear time \n",
        "# Therefore the time complexity for the program is O(n)\n",
        "\n",
        "\n",
        "# Space complexity \n",
        "# --------------\n",
        "# result 4bit +\n",
        "#for x loop 4 bit * x +\n",
        "# for y loop 4 bit * y +\n",
        "# \n",
        "# Since there is a new memory location result, the memory space might increase and the space complexity is O(n)"
      ],
      "execution_count": null,
      "outputs": []
    },
    {
      "cell_type": "code",
      "metadata": {
        "id": "QMjg3F3YvOHp"
      },
      "source": [
        "#Rotate an array to the left by a certain amount\n",
        "def rotate_left(A, d):\n",
        "    for _ in range(d): #O(n)\n",
        "        first_item = A[0]\n",
        "        for i in range(len(A)): #O(n)\n",
        "            A[i] = A[i + 1]\n",
        "        A[-1] = first_item\n",
        "\n",
        "\n",
        "# TIME COMPLEXITY \n",
        "# ---------------\n",
        "# The time complexity for this program is O(n^2) since the first loop runs in linear time\n",
        "# The second loop runs in linear time \n",
        "# the initialization runs in constant time \n",
        "\n",
        "\n",
        "# SPACE COMPLEXITY \n",
        "# --------------\n",
        "# Since there is new allocation of memory \n",
        "# the space might increase linearly\n",
        "# hence O(n)"
      ],
      "execution_count": null,
      "outputs": []
    },
    {
      "cell_type": "code",
      "metadata": {
        "id": "JJuu_teq0T04"
      },
      "source": [
        "#Integer square root\n",
        "def int_sqrt(x):\n",
        "    for i in range(x):\n",
        "        if i * i == x:\n",
        "            return i\n",
        "    \n",
        "    return -1\n",
        "    \n",
        "# TIME COMPLEXITY \n",
        "# -------------\n",
        "# The loop runs in linear time \n",
        "# The if statement is done in constant time with respect to the loop that runs in linear time O(n)\n",
        "# There for the time complexity for the program is O(n), this is slower than the bisection method since it has to check every value \n",
        "\n",
        "\n",
        "# SPACE COMPLEXITY \n",
        "# ---------------\n",
        "# The memory allocation is is constant since initalisation occurs more than  once \n",
        "# hence the space complexity is O(n)"
      ],
      "execution_count": null,
      "outputs": []
    },
    {
      "cell_type": "code",
      "metadata": {
        "id": "v7No9CPovSPx"
      },
      "source": [
        "#Integer square root bisection method\n",
        "def int_sqrt_bisect(x):\n",
        "    low = 0 # O(1)\n",
        "    high = x # O(1)\n",
        "    guess = x // 2 # O(1)\n",
        "    while True: #O(n)\n",
        "        diff = guess * guess - x\n",
        "        if diff == 0: # O(1)\n",
        "            return guess\n",
        "        if diff < 0: # our guess was lower than the true square root # O(1)\n",
        "            low = guess # so we should continue searching in the range [guess - high]\n",
        "        else: # our diff was higher than the true square root\n",
        "            high = guess # we continue searching in the range [low - guess]\n",
        "        \n",
        "        if high - low <= 1: # at this point we can't an integer square root for x\n",
        "            break\n",
        "\n",
        "        guess = (low + high) // 2 # pick a guess in the middle of the new range\n",
        "    return -1\n",
        "\n",
        "\n",
        "\n",
        "# TIME COMPLEXITY \n",
        "# -------------\n",
        "# The loop runs in linear time \n",
        "# The if statement is done in constant time with respect to the loop that runs in linear time O(n)\n",
        "# There for the time complexity for the program is O(n), this is slower than the bisection method since it has to check every value \n",
        "\n",
        "\n",
        "# SPACE COMPLEXITY \n",
        "# ---------------\n",
        "# The memory allocation is is constant since initalisation occurs more than  once \n",
        "# hence the space complexity is O(n)"
      ],
      "execution_count": null,
      "outputs": []
    }
  ]
}