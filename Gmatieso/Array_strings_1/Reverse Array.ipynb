{
 "cells": [
  {
   "cell_type": "code",
   "execution_count": 1,
   "metadata": {},
   "outputs": [
    {
     "name": "stdout",
     "output_type": "stream",
     "text": [
      "[9, 6, 5, 10]\n"
     ]
    }
   ],
   "source": [
    "#program to reverse a string of integers\n",
    "\"\"\"Defining a new list of type integer\"\"\"\n",
    "C = [10,5,6,9]\n",
    "\"\"\"Defining a function called  reverse_Array passing in the list parameter\"\"\"\n",
    "def reverse_Array(C):\n",
    "    \"\"\"Defining  a variable  and initializing it to zero\"\"\"\n",
    "    start_index = 0\n",
    "    \"\"\"Defining a varible and initialing it to length of the array minus 1 \"\"\"\n",
    "    end_index = len(C) - 1\n",
    "    \"\"\"looping through the array\"\"\"\n",
    "    while end_index > start_index:\n",
    "        \"\"\"swapping the variables\"\"\"\n",
    "        C[start_index],C[end_index] = C[end_index],C[start_index]\n",
    "        \"\"\"incrementing start  counter\"\"\"\n",
    "        start_index = start_index + 1\n",
    "        \"\"\"decrementing end counter\"\"\"\n",
    "        end_index = end_index  - 1 \n",
    "\"\"\"comparison of two constructors\"\"\"\n",
    "if __name__ == '__main__':\n",
    "    C = [10,5,6,9]\n",
    "    reverse_Array(C)\n",
    "    print(C)"
   ]
  },
  {
   "cell_type": "code",
   "execution_count": 16,
   "metadata": {},
   "outputs": [
    {
     "name": "stdout",
     "output_type": "stream",
     "text": [
      "The original list is:['t', 'h', 'i', 's', ' ', 'i', 's', ' ', 'g', 'o', 'o', 'd']\n"
     ]
    }
   ],
   "source": [
    "test_list = ['t','h','i','s',' ','i','s',' ','g','o','o','d']\n",
    "#printing original list\n",
    "print('The original list is:' + str(test_list))\n"
   ]
  },
  {
   "cell_type": "code",
   "execution_count": 48,
   "metadata": {},
   "outputs": [
    {
     "name": "stdout",
     "output_type": "stream",
     "text": [
      "The original string is:['t', 'h', 'i', 's', ' ', 'i', 's', ' ', 'g', 'o', 'o', 'd']\n"
     ]
    }
   ],
   "source": [
    "\"\"\"program to reverse the string in an array\"\"\"\n",
    "def reverse(s):\n",
    "    \"\"\"Variable initialization\"\"\"\n",
    "    item = ''\n",
    "    \"\"\"Looping through the variable\"\"\"\n",
    "    for i in s:\n",
    "        \"\"\"increment count\n",
    "        item = i + item\n",
    "    return item\n",
    "s = ['t', 'h', 'i', 's', ' ', 'i', 's', ' ', 'g', 'o', 'o', 'd']\n",
    "print(\"The original string is:\" + str(s))\n"
   ]
  },
  {
   "cell_type": "code",
   "execution_count": 49,
   "metadata": {},
   "outputs": [
    {
     "name": "stdout",
     "output_type": "stream",
     "text": [
      "The reversed string(using loops)is:doog si siht\n"
     ]
    }
   ],
   "source": [
    "print(\"The reversed string(using loops)is:\" + str(reverse(s)))"
   ]
  },
  {
   "cell_type": "code",
   "execution_count": null,
   "metadata": {},
   "outputs": [],
   "source": []
  },
  {
   "cell_type": "code",
   "execution_count": null,
   "metadata": {},
   "outputs": [],
   "source": []
  }
 ],
 "metadata": {
  "kernelspec": {
   "display_name": "Python 3",
   "language": "python",
   "name": "python3"
  },
  "language_info": {
   "codemirror_mode": {
    "name": "ipython",
    "version": 3
   },
   "file_extension": ".py",
   "mimetype": "text/x-python",
   "name": "python",
   "nbconvert_exporter": "python",
   "pygments_lexer": "ipython3",
   "version": "3.8.5"
  }
 },
 "nbformat": 4,
 "nbformat_minor": 4
}
